{
 "cells": [
  {
   "cell_type": "code",
   "execution_count": null,
   "metadata": {},
   "outputs": [],
   "source": [
    "import pandas as pd"
   ]
  },
  {
   "attachments": {},
   "cell_type": "markdown",
   "metadata": {},
   "source": [
    "# Preprocessing \n"
   ]
  },
  {
   "cell_type": "markdown",
   "metadata": {},
   "source": [
    "### Creating Bins"
   ]
  },
  {
   "cell_type": "code",
   "execution_count": null,
   "metadata": {},
   "outputs": [],
   "source": [
    "# Group the tenure in bins of 12 months\n",
    "labels = [\"{0} - < {1}\".format(i, i + 11) for i in range(1, 72, 12)]\n",
    "bins = [0, 12, 24, 36, 48, 60, 72]\n",
    "df[\"Tenure_groups\"] = pd.cut(df['tenure'], bins=bins, labels=labels)"
   ]
  },
  {
   "cell_type": "markdown",
   "metadata": {},
   "source": [
    "### Separating numerical and categorical variables"
   ]
  },
  {
   "cell_type": "code",
   "execution_count": null,
   "metadata": {},
   "outputs": [],
   "source": [
    "# extracting categorical variables\n",
    "cat_variables = df.select_dtypes(\n",
    "    include=['object', 'category']).columns.tolist()\n",
    "cat_variables"
   ]
  },
  {
   "cell_type": "code",
   "execution_count": null,
   "metadata": {},
   "outputs": [],
   "source": [
    "numerical_variables = [col for col in df.columns if col not in cat_variables]\n",
    "numerical_variables"
   ]
  },
  {
   "cell_type": "markdown",
   "metadata": {},
   "source": [
    "# Univariate Analysis"
   ]
  },
  {
   "cell_type": "code",
   "execution_count": null,
   "metadata": {},
   "outputs": [],
   "source": [
    "# Finding variables with unique counts < input\n",
    "def find_unique(df, count=1):\n",
    "    cols = df.columns\n",
    "    unique_var_list = []\n",
    "    for col in cols:\n",
    "        if df[col].nunique() <= count and col != \"Churn\":\n",
    "            unique_var_list.append(col)\n",
    "    return unique_var_list"
   ]
  },
  {
   "cell_type": "code",
   "execution_count": null,
   "metadata": {},
   "outputs": [],
   "source": [
    "# checking for all the unique columns from unique variable list included in churned unique var list\n",
    "for _str in unique_var_list:\n",
    "    if _str not in unique_var_list_churned:\n",
    "        print(_str)"
   ]
  },
  {
   "cell_type": "code",
   "execution_count": null,
   "metadata": {},
   "outputs": [],
   "source": [
    "# getting other columns which are not included in above analysis which has unique count > 5 ie: Continues variables\n",
    "\n",
    "for col_name in df.columns:\n",
    "    if col_name not in unique_var_list and col_name != \"Churn\":\n",
    "        print(\n",
    "            f\"variable Name {col_name} ....... unique value count: {df[col_name].nunique()}\")"
   ]
  },
  {
   "cell_type": "markdown",
   "metadata": {},
   "source": [
    "### Proportion of each variable in data"
   ]
  },
  {
   "cell_type": "code",
   "execution_count": null,
   "metadata": {},
   "outputs": [],
   "source": [
    "# Categerical Variable\n",
    "for col in unique_var_list:\n",
    "    plt.title(\"Percentage of class for \" + col + \" in data set\")\n",
    "    (df[col].value_counts()/len(df)).plot(kind='pie', autopct='%.2f')\n",
    "    plt.show()"
   ]
  },
  {
   "cell_type": "code",
   "execution_count": null,
   "metadata": {},
   "outputs": [],
   "source": [
    "# Continues variables\n",
    "plt.title(\"Monthly Charges distribution in complete dataset\")\n",
    "print(df[\"MonthlyCharges\"].describe())\n",
    "sns.violinplot(df[\"MonthlyCharges\"], inner=\"box\",\n",
    "               palette=\"Set3\", cut=2, linewidth=3)\n",
    "plt.show()"
   ]
  }
 ],
 "metadata": {
  "language_info": {
   "name": "python"
  },
  "orig_nbformat": 4
 },
 "nbformat": 4,
 "nbformat_minor": 2
}
